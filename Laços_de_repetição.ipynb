{
  "nbformat": 4,
  "nbformat_minor": 0,
  "metadata": {
    "colab": {
      "provenance": [],
      "authorship_tag": "ABX9TyMvhtfWISzq5pXKvYyNKwXk",
      "include_colab_link": true
    },
    "kernelspec": {
      "name": "python3",
      "display_name": "Python 3"
    },
    "language_info": {
      "name": "python"
    }
  },
  "cells": [
    {
      "cell_type": "markdown",
      "metadata": {
        "id": "view-in-github",
        "colab_type": "text"
      },
      "source": [
        "<a href=\"https://colab.research.google.com/github/cintiapinho/logicaprogramacaopython/blob/main/La%C3%A7os_de_repeti%C3%A7%C3%A3o.ipynb\" target=\"_parent\"><img src=\"https://colab.research.google.com/assets/colab-badge.svg\" alt=\"Open In Colab\"/></a>"
      ]
    },
    {
      "cell_type": "markdown",
      "source": [
        "# Laço de repetição - While\n",
        "\n"
      ],
      "metadata": {
        "id": "868M4IXbfhD4"
      }
    },
    {
      "cell_type": "code",
      "source": [
        "count = 1\n",
        "\n",
        "while count <= 10:\n",
        "  print(\"Contador: \", count)\n",
        "  count += 1 #mesma coisa que count = count + 1\n",
        "print(\"Acabou!\")"
      ],
      "metadata": {
        "id": "pE-rJMfxfofV",
        "colab": {
          "base_uri": "https://localhost:8080/"
        },
        "outputId": "608eba1d-84d7-4695-c7fb-51a2afc8220c"
      },
      "execution_count": 4,
      "outputs": [
        {
          "output_type": "stream",
          "name": "stdout",
          "text": [
            "Contador:  1\n",
            "Contador:  2\n",
            "Contador:  3\n",
            "Contador:  4\n",
            "Contador:  5\n",
            "Contador:  6\n",
            "Contador:  7\n",
            "Contador:  8\n",
            "Contador:  9\n",
            "Contador:  10\n",
            "Acabou!\n"
          ]
        }
      ]
    },
    {
      "cell_type": "code",
      "source": [
        "nota = int(input(\"Insira uma nota de 0 a 10: \"))\n",
        "while (0 < nota > 10) :\n",
        "  print(\"Nota inválida!\")\n",
        "  nota = int(input(\"Insira uma nota válida: \"))\n",
        "\n",
        "print(\"A nota do aluno é: {0}\".format(nota))\n",
        "if (nota >= 7):\n",
        "  print(\"Aluno aprovado!\")\n",
        "else:\n",
        "  print(\"Aluno reprovado\")"
      ],
      "metadata": {
        "id": "dIuXF54ygS3G",
        "colab": {
          "base_uri": "https://localhost:8080/"
        },
        "outputId": "2b3705e2-78a5-4001-87f7-36a6c01a1858"
      },
      "execution_count": 5,
      "outputs": [
        {
          "output_type": "stream",
          "name": "stdout",
          "text": [
            "Insira uma nota de 0 a 10: 15\n",
            "Nota inválida!\n",
            "Insira uma nota válida: 9\n",
            "A nota do aluno é: 9\n",
            "Aluno aprovado!\n"
          ]
        }
      ]
    },
    {
      "cell_type": "code",
      "source": [
        "senha = '123456'\n",
        "numTentativas = 0\n",
        "\n",
        "tentativaSenha = input(\"Digite a sua senha:\")\n",
        "\n",
        "while (senha != tentativaSenha and numTentativas < 3):\n",
        "  print(\"Senha inválida! Tente novamente: \")\n",
        "  tentativaSenha = input(\"\")\n",
        "  numTentativas += 1\n",
        "\n",
        "if numTentativas == 3:\n",
        "  print(\"Seu acesso foi bloqueado!\")\n",
        "else:\n",
        "  print(\"Acesso liberado.\")"
      ],
      "metadata": {
        "id": "DoucL6styUmx",
        "colab": {
          "base_uri": "https://localhost:8080/"
        },
        "outputId": "1b7b44e1-33ce-4ba2-eca8-df4a86282f87"
      },
      "execution_count": 13,
      "outputs": [
        {
          "output_type": "stream",
          "name": "stdout",
          "text": [
            "Digite a sua senha:12345\n",
            "Senha inválida! Tente novamente: \n",
            "123456\n",
            "Acesso liberado.\n"
          ]
        }
      ]
    },
    {
      "cell_type": "code",
      "source": [
        "import random\n",
        "\n",
        "numero = random.randrange(1, 101)\n",
        "\n",
        "qtdePalpites = 1\n",
        "palpite = int(input(\"Adivinhe o número: \"))\n",
        "\n",
        "while palpite != numero:\n",
        "  qtdePalpites += 1\n",
        "  if palpite > numero:\n",
        "    print(palpite, \"está acima\")\n",
        "  else:\n",
        "    print(palpite, \"está abaixo\")\n",
        "  palpite = int(input(\"Tente novamente: \"))\n",
        "\n",
        "print(\"Parabéns! Você acertou em\", qtdePalpites, \"tentativas.\")"
      ],
      "metadata": {
        "id": "Ce7dpuZH0Kwj",
        "colab": {
          "base_uri": "https://localhost:8080/"
        },
        "outputId": "b689a933-1f7e-4c80-bda0-e80a442964c9"
      },
      "execution_count": 15,
      "outputs": [
        {
          "output_type": "stream",
          "name": "stdout",
          "text": [
            "Adivinhe o número: 56\n",
            "56 está acima\n",
            "Tente novamente: 51\n",
            "51 está acima\n",
            "Tente novamente: 37\n",
            "37 está acima\n",
            "Tente novamente: 5\n",
            "5 está abaixo\n",
            "Tente novamente: 20\n",
            "20 está abaixo\n",
            "Tente novamente: 28\n",
            "28 está acima\n",
            "Tente novamente: 22\n",
            "22 está abaixo\n",
            "Tente novamente: 25\n",
            "25 está acima\n",
            "Tente novamente: 24\n",
            "Parabéns! Você acertou em 9 tentativas.\n"
          ]
        }
      ]
    },
    {
      "cell_type": "markdown",
      "source": [
        "# Laço de repetição - For\n"
      ],
      "metadata": {
        "id": "gW7VvM0_2k9-"
      }
    },
    {
      "cell_type": "code",
      "source": [
        "lista = [1, 2, 3, 4, 5]\n",
        "\n",
        "for item in lista:\n",
        "  print(item)"
      ],
      "metadata": {
        "id": "ZJnWonna2n7N",
        "colab": {
          "base_uri": "https://localhost:8080/"
        },
        "outputId": "226695f4-a07c-47c9-f245-ed866a9d201c"
      },
      "execution_count": 16,
      "outputs": [
        {
          "output_type": "stream",
          "name": "stdout",
          "text": [
            "1\n",
            "2\n",
            "3\n",
            "4\n",
            "5\n"
          ]
        }
      ]
    },
    {
      "cell_type": "code",
      "source": [
        "for i in range(5):\n",
        "  print(i + 1)"
      ],
      "metadata": {
        "id": "ypTklP0Q3WoW",
        "colab": {
          "base_uri": "https://localhost:8080/"
        },
        "outputId": "259ac266-6d79-4a6c-a3d2-9a30c0feb739"
      },
      "execution_count": 19,
      "outputs": [
        {
          "output_type": "stream",
          "name": "stdout",
          "text": [
            "1\n",
            "2\n",
            "3\n",
            "4\n",
            "5\n"
          ]
        }
      ]
    },
    {
      "cell_type": "code",
      "source": [
        "# Vamos mostrar o intervalo de números presentes entre 1 e o número digitado pelo usuário\n",
        "\n",
        "numero = int(input(\"Digite um número: \"))\n",
        "for i in range(1, numero):\n",
        "  print(i)"
      ],
      "metadata": {
        "id": "9jGVGxFu6CF-",
        "colab": {
          "base_uri": "https://localhost:8080/"
        },
        "outputId": "5e409d5a-4972-4c64-c8f1-b1ec52f7dbb6"
      },
      "execution_count": 21,
      "outputs": [
        {
          "output_type": "stream",
          "name": "stdout",
          "text": [
            "Digite um número: 15\n",
            "1\n",
            "2\n",
            "3\n",
            "4\n",
            "5\n",
            "6\n",
            "7\n",
            "8\n",
            "9\n",
            "10\n",
            "11\n",
            "12\n",
            "13\n",
            "14\n"
          ]
        }
      ]
    },
    {
      "cell_type": "code",
      "source": [
        "# Somando todos os números de uma lista\n",
        "\n",
        "numeros = [10, 20, 30, 40, 50]\n",
        "soma = 0\n",
        "for numero in numeros:\n",
        "  print(\"Número: \", numero)\n",
        "  soma += numero\n",
        "  print(\"Soma: \", soma)\n",
        "print(\"A soma dos números é:\", soma)\n"
      ],
      "metadata": {
        "id": "f0PZPJDCIeyL",
        "colab": {
          "base_uri": "https://localhost:8080/"
        },
        "outputId": "852981f5-0649-4f3a-a45f-b2c97af27d19"
      },
      "execution_count": 23,
      "outputs": [
        {
          "output_type": "stream",
          "name": "stdout",
          "text": [
            "Número:  10\n",
            "Soma:  10\n",
            "Número:  20\n",
            "Soma:  30\n",
            "Número:  30\n",
            "Soma:  60\n",
            "Número:  40\n",
            "Soma:  100\n",
            "Número:  50\n",
            "Soma:  150\n",
            "A soma dos números é: 150\n"
          ]
        }
      ]
    },
    {
      "cell_type": "markdown",
      "source": [
        "# Exercícios"
      ],
      "metadata": {
        "id": "3kj5bS6A39PG"
      }
    },
    {
      "cell_type": "markdown",
      "source": [
        "1. Faça um programa que leia um nome de usuário e a sua senha e não aceite a senha igual ao nome do usuário, mostrando uma mensagem de erro e voltando a pedir as informações."
      ],
      "metadata": {
        "id": "2Mo83w2R3_0m"
      }
    },
    {
      "cell_type": "markdown",
      "source": [
        "2. Faça um programa que peça ao usuário 5 números e informe a soma e a média dos números."
      ],
      "metadata": {
        "id": "ZEpXtH0p4DGt"
      }
    },
    {
      "cell_type": "markdown",
      "source": [
        "3. Faça um programa que imprima na tela apenas os números ímpares entre 1 e 50.\n"
      ],
      "metadata": {
        "id": "AhjFGtNC46YK"
      }
    },
    {
      "cell_type": "markdown",
      "source": [
        "4. Desenvolva um gerador de tabuada, capaz de gerar a tabuada de qualquer número inteiro entre 1 a 10. O usuário deve informar de qual numero ele deseja ver a tabuada."
      ],
      "metadata": {
        "id": "1mvBEFdw5Cky"
      }
    },
    {
      "cell_type": "markdown",
      "source": [
        "5. Supondo que a população de um país A seja da ordem de 80000 habitantes com uma taxa anual de crescimento de 3% e que a população de B seja 200000 habitantes com uma taxa de crescimento de 1.5%. Faça um programa que calcule e escreva o número de anos necessários para que a população do país A ultrapasse ou iguale a população do país B, mantidas as taxas de crescimento.\n"
      ],
      "metadata": {
        "id": "ELnGvnvqKJVM"
      }
    }
  ]
}