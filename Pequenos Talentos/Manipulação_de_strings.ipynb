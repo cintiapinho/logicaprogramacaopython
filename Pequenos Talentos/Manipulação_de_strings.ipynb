{
  "nbformat": 4,
  "nbformat_minor": 0,
  "metadata": {
    "colab": {
      "provenance": [],
      "authorship_tag": "ABX9TyNMTS5thcIVNw4MJQprdGoh",
      "include_colab_link": true
    },
    "kernelspec": {
      "name": "python3",
      "display_name": "Python 3"
    },
    "language_info": {
      "name": "python"
    }
  },
  "cells": [
    {
      "cell_type": "markdown",
      "metadata": {
        "id": "view-in-github",
        "colab_type": "text"
      },
      "source": [
        "<a href=\"https://colab.research.google.com/github/cintiapinho/logicaprogramacaopython/blob/main/Manipula%C3%A7%C3%A3o_de_strings.ipynb\" target=\"_parent\"><img src=\"https://colab.research.google.com/assets/colab-badge.svg\" alt=\"Open In Colab\"/></a>"
      ]
    },
    {
      "cell_type": "code",
      "execution_count": 1,
      "metadata": {
        "id": "FAg1JRvzW2V_",
        "colab": {
          "base_uri": "https://localhost:8080/"
        },
        "outputId": "78b4b45e-df2b-4a39-a99e-bb132887a848"
      },
      "outputs": [
        {
          "output_type": "stream",
          "name": "stdout",
          "text": [
            "Hello world!\n"
          ]
        }
      ],
      "source": [
        "# Imprimindo uma string\n",
        "\n",
        "hello = \"Hello world!\"\n",
        "print(hello)"
      ]
    },
    {
      "cell_type": "code",
      "source": [
        "# Obtendo o tipo da string\n",
        "\n",
        "type(hello)"
      ],
      "metadata": {
        "colab": {
          "base_uri": "https://localhost:8080/"
        },
        "id": "JXpdgmuKXqnf",
        "outputId": "ffc2b993-43df-49ee-96b9-52412d58f070"
      },
      "execution_count": null,
      "outputs": [
        {
          "output_type": "execute_result",
          "data": {
            "text/plain": [
              "str"
            ]
          },
          "metadata": {},
          "execution_count": 3
        }
      ]
    },
    {
      "cell_type": "code",
      "source": [
        "# Verificando existência de determinado caractere na string\n",
        "hello = \"Hello world!\"\n",
        "'w' in hello"
      ],
      "metadata": {
        "colab": {
          "base_uri": "https://localhost:8080/"
        },
        "id": "aL0acMtwa8fc",
        "outputId": "d1dde37b-d5d7-45d5-d0b4-314867bff87a"
      },
      "execution_count": 6,
      "outputs": [
        {
          "output_type": "execute_result",
          "data": {
            "text/plain": [
              "True"
            ]
          },
          "metadata": {},
          "execution_count": 6
        }
      ]
    },
    {
      "cell_type": "code",
      "source": [
        "# Tamanho de uma string\n",
        "hello = \"Hello world!\"\n",
        "len(hello)"
      ],
      "metadata": {
        "colab": {
          "base_uri": "https://localhost:8080/"
        },
        "id": "vEAop7kVXrmq",
        "outputId": "e1a223ff-755b-4708-d971-5c930b183912"
      },
      "execution_count": 9,
      "outputs": [
        {
          "output_type": "execute_result",
          "data": {
            "text/plain": [
              "12"
            ]
          },
          "metadata": {},
          "execution_count": 9
        }
      ]
    },
    {
      "cell_type": "code",
      "source": [
        "# Concatenação de strings\n",
        "\n",
        "print(\"Pequenos\" , \"talentos\")"
      ],
      "metadata": {
        "colab": {
          "base_uri": "https://localhost:8080/"
        },
        "id": "vj5Vj1jqXtwg",
        "outputId": "00e113fc-98f7-426f-9b9a-b1c919e29a0b"
      },
      "execution_count": 11,
      "outputs": [
        {
          "output_type": "stream",
          "name": "stdout",
          "text": [
            "Pequenos talentos\n"
          ]
        }
      ]
    },
    {
      "cell_type": "code",
      "source": [
        "# Substitui uma substring por alguma outra coisa.\n",
        "\n",
        "frase = hello.replace(\"Hello\", \"Olá,\")\n",
        "print(frase)\n",
        "frase2 = frase.replace(\"world\", \"mundo\")\n",
        "print(frase2)"
      ],
      "metadata": {
        "colab": {
          "base_uri": "https://localhost:8080/"
        },
        "id": "5FfqxCW0YBZU",
        "outputId": "fdb3ee47-2ff2-422c-dcac-92d7e13bc38f"
      },
      "execution_count": 13,
      "outputs": [
        {
          "output_type": "stream",
          "name": "stdout",
          "text": [
            "Olá, world!\n",
            "Olá, mundo!\n"
          ]
        }
      ]
    },
    {
      "cell_type": "code",
      "source": [
        "frase = \"Olá, world!\"\n",
        "frase2 = \"Olá, mundo\""
      ],
      "metadata": {
        "id": "CsPmwUCLRfVP"
      },
      "execution_count": 23,
      "outputs": []
    },
    {
      "cell_type": "code",
      "source": [
        "# A string começa com \"Olá\"?\n",
        "# print(frase.startswith(\"Olá\"))\n",
        "\n",
        "# # A string termina com \"mundo\"?\n",
        "# print(frase2.endswith(\"mundo\"))\n",
        "\n",
        "# # Quantas ocorrências da palavra \"Hello\" a string s1 possui?\n",
        "print(hello.count(\"l\"))"
      ],
      "metadata": {
        "id": "rPj9xiWgYees",
        "colab": {
          "base_uri": "https://localhost:8080/"
        },
        "outputId": "41cd6f61-b3a4-4493-bb1d-8485bbf202d4"
      },
      "execution_count": 26,
      "outputs": [
        {
          "output_type": "stream",
          "name": "stdout",
          "text": [
            "3\n"
          ]
        }
      ]
    },
    {
      "cell_type": "code",
      "source": [
        "# Letra minúscula\n",
        "\n",
        "fraseMinuscula = frase2.lower()\n",
        "#print(fraseMinuscula)\n",
        "\n",
        "# Letra maiúscula\n",
        "\n",
        "fraseMaiuscula = frase2.upper()\n",
        "print(fraseMaiuscula)"
      ],
      "metadata": {
        "id": "tWEi_xn6ZgEJ",
        "colab": {
          "base_uri": "https://localhost:8080/"
        },
        "outputId": "a0f8c7e2-0493-4419-d0d0-9fadb448a7d3"
      },
      "execution_count": 32,
      "outputs": [
        {
          "output_type": "stream",
          "name": "stdout",
          "text": [
            "OLÁ, MUNDO\n"
          ]
        }
      ]
    },
    {
      "cell_type": "code",
      "source": [
        "# Acessando caracteres específicos\n",
        "frase = \"Olá, world!\"\n",
        "frase2 = \"Olá, mundo\"\n",
        "\n",
        "print(\"----- Ordem principal -----\")\n",
        "print(frase2[0])\n",
        "print(frase2[2])\n",
        "print(frase2[6])\n",
        "\n",
        "print(\"----- Ordem reversa -----\")\n",
        "print(frase2[-1])\n",
        "print(frase2[-2])\n",
        "print(frase2[-4])"
      ],
      "metadata": {
        "id": "L0xRS4CkZ8Qf",
        "colab": {
          "base_uri": "https://localhost:8080/"
        },
        "outputId": "84df4291-96ae-4710-ed65-e8156b06b43a"
      },
      "execution_count": 35,
      "outputs": [
        {
          "output_type": "stream",
          "name": "stdout",
          "text": [
            "----- Ordem principal -----\n",
            "O\n",
            "á\n",
            "u\n",
            "----- Ordem reversa -----\n",
            "o\n",
            "d\n",
            "u\n"
          ]
        }
      ]
    },
    {
      "cell_type": "code",
      "source": [
        "# Acessando \"partes\" da string\n",
        "frase = \"Olá, world!\"\n",
        "frase2 = \"Olá, mundo\"\n",
        "\n",
        "print(\"----- Retornando caracteres do índice 1 até o 3 -----\")\n",
        "print(frase2[5])\n",
        "\n",
        "#print(\"----- Retorna toda a string -----\")\n",
        "#print(frase2[:])\n",
        "\n",
        "#print(\"----- Imprime os caracteres nos índices pares -----\")\n",
        "#print(frase2[::2])\n",
        "#print(\"----- Imprime os caracteres nos índices ímpares -----\")\n",
        "#print(frase2[1::2])\n",
        "\n",
        "#print(\"Invertendo a string\")\n",
        "#print(frase2[::-1])"
      ],
      "metadata": {
        "id": "-AzuBE0zZ2gQ",
        "colab": {
          "base_uri": "https://localhost:8080/"
        },
        "outputId": "4b81e1aa-632a-488e-acbd-0f8801f73b51"
      },
      "execution_count": 43,
      "outputs": [
        {
          "output_type": "stream",
          "name": "stdout",
          "text": [
            "m\n"
          ]
        }
      ]
    },
    {
      "cell_type": "markdown",
      "source": [
        "# Exercícios"
      ],
      "metadata": {
        "id": "-BPH9Sm8baJn"
      }
    },
    {
      "cell_type": "markdown",
      "source": [
        "1) Peça ao usuário uma frase e substitua todas\n",
        "as ocorrências de espaço por “#”."
      ],
      "metadata": {
        "id": "xgIme8IRbeaS"
      }
    },
    {
      "cell_type": "markdown",
      "source": [
        "2) Faça um programa que retorne True se duas strings lidas do teclado\n",
        "são palíndromas mútuas, ou seja, se uma é igual à outra quando\n",
        "lida de traz para frente ou False, se não forem.\n",
        "\n",
        "Por exemplo: amor e roma"
      ],
      "metadata": {
        "id": "Fs0AH2qGboIy"
      }
    },
    {
      "cell_type": "markdown",
      "source": [
        "3) Faça um programa que leia o nome do usuário e mostre\n",
        "o nome de traz para frente, utilizando somente letras\n",
        "maiúsculas."
      ],
      "metadata": {
        "id": "T3S4GjOUb4Qg"
      }
    }
  ]
}