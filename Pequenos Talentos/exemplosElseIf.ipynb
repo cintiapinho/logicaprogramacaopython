{
  "nbformat": 4,
  "nbformat_minor": 0,
  "metadata": {
    "colab": {
      "provenance": [],
      "authorship_tag": "ABX9TyPrexG6bPJkE8mIIJ/fy1Cu",
      "include_colab_link": true
    },
    "kernelspec": {
      "name": "python3",
      "display_name": "Python 3"
    },
    "language_info": {
      "name": "python"
    }
  },
  "cells": [
    {
      "cell_type": "markdown",
      "metadata": {
        "id": "view-in-github",
        "colab_type": "text"
      },
      "source": [
        "<a href=\"https://colab.research.google.com/github/cintiapinho/logicaprogramacaopython/blob/main/Pequenos%20Talentos/exemplosElseIf.ipynb\" target=\"_parent\"><img src=\"https://colab.research.google.com/assets/colab-badge.svg\" alt=\"Open In Colab\"/></a>"
      ]
    },
    {
      "cell_type": "markdown",
      "source": [
        "Operadores condicionais:"
      ],
      "metadata": {
        "id": "y699hLSEAtor"
      }
    },
    {
      "cell_type": "markdown",
      "source": [],
      "metadata": {
        "id": "FESSpJuOHEds"
      }
    },
    {
      "cell_type": "code",
      "source": [
        "# Usando if, se a condição for verdadeira nesse caso terei retorno, caso não seja, sem retorno.\n",
        "\n",
        "x = 10\n",
        "if x > 5:\n",
        "    print(\"x é maior que 5\")"
      ],
      "metadata": {
        "id": "oj2vamG4Ayww",
        "colab": {
          "base_uri": "https://localhost:8080/"
        },
        "outputId": "7b6a230e-dfc4-47f8-acfc-b9ce0a566349"
      },
      "execution_count": 1,
      "outputs": [
        {
          "output_type": "stream",
          "name": "stdout",
          "text": [
            "x é maior que 5\n"
          ]
        }
      ]
    },
    {
      "cell_type": "code",
      "source": [
        "#Aqui nesse exemplo temos a solução do problema anterior, se a condição for falsa eu tenho resposta.\n",
        "\n",
        "x = 2\n",
        "if x > 5:\n",
        "    print(\"x é maior que 5\")\n",
        "else:\n",
        "    print(\"x não é maior que 5\")"
      ],
      "metadata": {
        "id": "nCbcFOHWA9Q2"
      },
      "execution_count": null,
      "outputs": []
    },
    {
      "cell_type": "code",
      "source": [
        "# Nesse caso, podemos adiciona mais condições ao meu bloco de codigo, usando elif\n",
        "x = 25\n",
        "\n",
        "if x > 15:\n",
        "    print(\"x é maior que 15\")\n",
        "\n",
        "elif x > 10:\n",
        "    print(\"x é maior que 10\")\n",
        "\n",
        "else:\n",
        "    print(\"x é 10 ou menor\")"
      ],
      "metadata": {
        "id": "3-_2Ehe9BbWn",
        "colab": {
          "base_uri": "https://localhost:8080/"
        },
        "outputId": "3c6c9d80-8f04-4ab2-c062-5952f5dcdfc8"
      },
      "execution_count": 6,
      "outputs": [
        {
          "output_type": "stream",
          "name": "stdout",
          "text": [
            "x é maior que 15\n"
          ]
        }
      ]
    },
    {
      "cell_type": "code",
      "source": [
        "#Mais um exemplo\n",
        "\n",
        "numero = int(input(\"Digite um número: \"))\n",
        "\n",
        "# Verificar se o número é positivo, negativo ou zero\n",
        "if numero > 0:\n",
        "    print(\"O número\", numero, \"é positivo.\")\n",
        "elif numero < 0:\n",
        "    print(\"O número {} é negativo.\".format(numero))\n",
        "else:\n",
        "    print(\"O número {} é zero.\".format(numero))"
      ],
      "metadata": {
        "id": "r8Lg9pG8CFC-"
      },
      "execution_count": null,
      "outputs": []
    },
    {
      "cell_type": "code",
      "source": [
        "# Solicitar ao usuário que insira um número\n",
        "numero = int(input(\"Digite um número inteiro: \"))\n",
        "\n",
        "# Verificar se o número é par ou ímpar\n",
        "if numero % 2 == 0:\n",
        "    print(\"O número\", numero, \"é par.\")\n",
        "else:\n",
        "    print(\"O número {} é ímpar.\".format(numero))"
      ],
      "metadata": {
        "id": "O3y5O0yHDenY",
        "colab": {
          "base_uri": "https://localhost:8080/"
        },
        "outputId": "3db4d136-82cc-4cd6-8495-abd2d4973c27"
      },
      "execution_count": 9,
      "outputs": [
        {
          "output_type": "stream",
          "name": "stdout",
          "text": [
            "Digite um número inteiro: 1523\n",
            "O número 1523 é ímpar.\n"
          ]
        }
      ]
    },
    {
      "cell_type": "code",
      "source": [
        "# Solicitar ao usuário que insira um número\n",
        "numero = int(input(\"Digite um número inteiro: \"))\n",
        "\n",
        "# Verificar se o número está dentro do intervalo [10, 20]\n",
        "if 10 <= numero <= 20:\n",
        "    print(\"O número {} está dentro do intervalo [10, 20].\".format(numero))\n",
        "else:\n",
        "    print(\"O número {} está fora do intervalo [10, 20].\".format(numero))\n",
        "\n"
      ],
      "metadata": {
        "id": "XIZgwof1FAtK",
        "colab": {
          "base_uri": "https://localhost:8080/"
        },
        "outputId": "ce76a824-bf58-4073-c348-7471dc8faa8c"
      },
      "execution_count": 12,
      "outputs": [
        {
          "output_type": "stream",
          "name": "stdout",
          "text": [
            "Digite um número inteiro: 50\n",
            "O número 50 está fora do intervalo [10, 20].\n"
          ]
        }
      ]
    },
    {
      "cell_type": "code",
      "source": [
        "# Verificar se o número é divisível por 3 e 5\n",
        "# Solicitar ao usuário que insira um número\n",
        "numero = int(input(\"Digite um número inteiro: \"))\n",
        "if numero % 3 == 0 and numero % 5 == 0:\n",
        "    print(\"O número {} é divisível por 3 e 5.\".format(numero))\n",
        "elif numero % 3 == 0:\n",
        "    print(\"O número {} é divisível por 3.\".format(numero))\n",
        "elif numero % 5 == 0:\n",
        "    print(\"O número {} é divisível por 5.\".format(numero))\n",
        "else:\n",
        "    print(\"O número {} não é divisível por 3 nem por 5.\".format(numero))"
      ],
      "metadata": {
        "id": "ExD1WeoCp0kY"
      },
      "execution_count": null,
      "outputs": []
    },
    {
      "cell_type": "markdown",
      "source": [
        "Lista de exercicios:\n",
        "\n",
        "1 - Crie um programa que solicite ao usuário que insira um número e exiba o dobro desse número.\n",
        "\n",
        "2 - Escreva um programa que peça ao usuário para inserir sua idade e verifique se ele é maior de idade (idade maior ou igual a 18).\n",
        "\n",
        "3 - Faça um programa que receba dois números do usuário e exiba o maior deles.\n",
        "\n",
        "4 - Escreva um programa que solicite ao usuário que insira um número e verifique se ele é par ou ímpar.\n",
        "\n",
        "5 - Crie um programa que peça ao usuário para inserir um número e determine se ele é positivo, negativo ou zero.\n",
        "\n",
        "6 - Faça um programa que solicite ao usuário que insira um caractere e verifique se é uma vogal ou uma consoante.\n",
        "\n",
        "7 - Escreva um programa que peça ao usuário para inserir um número e verifique se ele está dentro do intervalo de 1 a 100.\n",
        "\n",
        "8 - Crie um programa que receba três números do usuário e exiba o maior deles.\n",
        "\n",
        "9- Escreva um programa que solicite ao usuário que insira sua altura e peso, e calcule o IMC (Índice de Massa Corporal), exibindo a classificação de acordo com a tabela padrão de IMC.\n",
        "\n",
        "10- Faça um programa que exiba a categoria que o usuário se enquadra de acordo com o seu peso. Crie suas próprias 5 categorias com pesos distintos."
      ],
      "metadata": {
        "id": "71AtTJ1FHF8M"
      }
    }
  ]
}