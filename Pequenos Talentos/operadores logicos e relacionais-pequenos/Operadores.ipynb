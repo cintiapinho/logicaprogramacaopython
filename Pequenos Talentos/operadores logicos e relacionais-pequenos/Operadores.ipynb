{
  "nbformat": 4,
  "nbformat_minor": 0,
  "metadata": {
    "colab": {
      "provenance": [],
      "authorship_tag": "ABX9TyO6QLNMXTM/BhP8iNpgkUql",
      "include_colab_link": true
    },
    "kernelspec": {
      "name": "python3",
      "display_name": "Python 3"
    },
    "language_info": {
      "name": "python"
    }
  },
  "cells": [
    {
      "cell_type": "markdown",
      "metadata": {
        "id": "view-in-github",
        "colab_type": "text"
      },
      "source": [
        "<a href=\"https://colab.research.google.com/github/cintiapinho/logicaprogramacaopython/blob/main/operadores%20logicos%20e%20relacionais-pequenos/Operadores.ipynb\" target=\"_parent\"><img src=\"https://colab.research.google.com/assets/colab-badge.svg\" alt=\"Open In Colab\"/></a>"
      ]
    },
    {
      "cell_type": "code",
      "execution_count": 3,
      "metadata": {
        "colab": {
          "base_uri": "https://localhost:8080/"
        },
        "id": "RjC1lGjigAvz",
        "outputId": "543f516a-c175-4f29-8ddf-5a3698fdd41b"
      },
      "outputs": [
        {
          "output_type": "stream",
          "name": "stdout",
          "text": [
            "Soma: 30 Subtração: 10 Multiplicacao: 200 Divisao: 2.0\n"
          ]
        }
      ],
      "source": [
        "# Operações básicas\n",
        "\n",
        "A = 20\n",
        "B = 10\n",
        "Soma = A + B\n",
        "Subtracao = A - B\n",
        "Multiplicacao = A * B\n",
        "Divisao = A / B\n",
        "print('Soma:', Soma,'Subtração:', Subtracao,'Multiplicacao:', Multiplicacao,'Divisao:', Divisao)"
      ]
    },
    {
      "cell_type": "code",
      "source": [
        "# Operadores relacionais (usando as variáveis acima)\n",
        "\n",
        "Menor = A < B\n",
        "Maior = A > B\n",
        "Igual = A == B\n",
        "Diferente = A != B\n",
        "MenorIgual = A <= B\n",
        "MaiorIgual = A >= B\n",
        "\n",
        "print(\"A é menor que B?: \", Menor)\n",
        "print(\"A é maior que B?: \", Maior)\n",
        "print(\"A é igual a B?: \", Igual)\n",
        "print(\"A é diferente de B?: \", Diferente)\n",
        "print(\"A é menor ou igual a B?: \", MenorIgual)\n",
        "print(\"A é maior ou igual a B?: \", MenorIgual)"
      ],
      "metadata": {
        "colab": {
          "base_uri": "https://localhost:8080/"
        },
        "id": "rTS5BnfJiRkI",
        "outputId": "a38f5430-d447-40e0-d5a6-1e7aa3102d78"
      },
      "execution_count": null,
      "outputs": [
        {
          "output_type": "stream",
          "name": "stdout",
          "text": [
            "A é menor que B?:  False\n",
            "A é maior que B?:  True\n",
            "A é igual a B?:  False\n",
            "A é diferente de B?:  True\n",
            "A é menor ou igual a B?:  False\n",
            "A é maior ou igual a B?:  False\n"
          ]
        }
      ]
    },
    {
      "cell_type": "code",
      "source": [
        "# Operadores lógicos (utilizando exemplos acima)\n",
        "\n",
        "print(\"Menor AND Maior\", (A < B) and (A >B))\n",
        "print(\"Igual OR Diferente\",(A == B) or (A != B))\n",
        "print(\"NOT Maior Igual: \",not MaiorIgual)"
      ],
      "metadata": {
        "colab": {
          "base_uri": "https://localhost:8080/"
        },
        "id": "rXIICrqYjW5v",
        "outputId": "9935b4b9-4e13-4821-a62f-ce34e58ca695"
      },
      "execution_count": null,
      "outputs": [
        {
          "output_type": "stream",
          "name": "stdout",
          "text": [
            "Menor AND Maior False\n",
            "Igual OR Diferente True\n",
            "NOT Maior Igual:  False\n"
          ]
        }
      ]
    },
    {
      "cell_type": "code",
      "source": [
        "print(not(Diferente or Maior) and MenorIgual)"
      ],
      "metadata": {
        "id": "K8tkwtvlj23Y",
        "colab": {
          "base_uri": "https://localhost:8080/"
        },
        "outputId": "7c2f0397-e598-4838-9e84-81c56642645e"
      },
      "execution_count": null,
      "outputs": [
        {
          "output_type": "stream",
          "name": "stdout",
          "text": [
            "False\n"
          ]
        }
      ]
    },
    {
      "cell_type": "markdown",
      "source": [
        "# EXERCÍCIOS"
      ],
      "metadata": {
        "id": "pt9WtCZ-SQ_T"
      }
    },
    {
      "cell_type": "markdown",
      "source": [
        "1) Peça o nome e mostre uma mensagem de boas vindas ao usuário."
      ],
      "metadata": {
        "id": "4REs8D2LTxCT"
      }
    },
    {
      "cell_type": "markdown",
      "source": [
        "2) Solicite ao usuário dois números. Apresente a Soma, Subtração, Divisão e Multiplicação destes dois números.\n"
      ],
      "metadata": {
        "id": "wKmrQ2oVSZ9L"
      }
    },
    {
      "cell_type": "markdown",
      "source": [
        "3) Peça para o usuário o seu nome, ano de nascimento e ano atual. A partir desses dados, faça um cálculo aritmético que calcule a idade do usuário e imprima uma mensagem na tela."
      ],
      "metadata": {
        "id": "jPJKIFp9TIag"
      }
    },
    {
      "cell_type": "markdown",
      "source": [
        "4) Um novo modelo de carro, super econômico foi lançado.\n",
        "Ele faz 20 km com 1 litro de combustível.\n",
        "Cada litro de combustível custa R$ 5,00.\n",
        "\n",
        "Faça um programa que pergunte ao usuário quanto de dinheiro ele tem e em seguida diga quantos litros de combustível ele pode comprar e quantos kilometros o carro consegue andar com este tanto de combustível.\n"
      ],
      "metadata": {
        "id": "o45NO9pATh3l"
      }
    },
    {
      "cell_type": "markdown",
      "source": [
        "5) Sendo v1 = 15, v2 = 10, v3 = 5, v4 = 0, defina qual será a resposta (VERDADEIRO OU FALSO) para as sentenças lógicas abaixo.\n",
        "\n",
        "a) (v1 = 10) E (v2 = 10) <br>\n",
        "b) (v1 = 15) E (v2 = 10) <br>\n",
        "c) (v4 = 1) OU (v3 = 4)<br>\n",
        "d) (v1 > 10 E v2 < 15) E (v3 < 10 E v4 = 0)<br>\n",
        "e) (v1 < 10 E v2 > 15) OU (v3 > 5 OU v4 = 0)<br>"
      ],
      "metadata": {
        "id": "tgMReADLWEiW"
      }
    }
  ]
}