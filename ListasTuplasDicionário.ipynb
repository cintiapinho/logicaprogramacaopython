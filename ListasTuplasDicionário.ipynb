{
  "nbformat": 4,
  "nbformat_minor": 0,
  "metadata": {
    "colab": {
      "provenance": [],
      "include_colab_link": true
    },
    "kernelspec": {
      "name": "python3",
      "display_name": "Python 3"
    },
    "language_info": {
      "name": "python"
    }
  },
  "cells": [
    {
      "cell_type": "markdown",
      "metadata": {
        "id": "view-in-github",
        "colab_type": "text"
      },
      "source": [
        "<a href=\"https://colab.research.google.com/github/cintiapinho/logicaprogramacaopython/blob/main/ListasTuplasDicion%C3%A1rio.ipynb\" target=\"_parent\"><img src=\"https://colab.research.google.com/assets/colab-badge.svg\" alt=\"Open In Colab\"/></a>"
      ]
    },
    {
      "cell_type": "code",
      "execution_count": null,
      "metadata": {
        "id": "vkTraW0kDKuv",
        "colab": {
          "base_uri": "https://localhost:8080/"
        },
        "outputId": "fde169ae-515d-4755-9438-539a11e2eaab"
      },
      "outputs": [
        {
          "output_type": "stream",
          "name": "stdout",
          "text": [
            "<class 'tuple'>\n"
          ]
        }
      ],
      "source": [
        "#Listas exemplos\n",
        "\n",
        "programadores = ('Victor','Maria','Pedro', 'Paula', 'João')\n",
        "\n",
        "#Verificando o tipo\n",
        "print(type(programadores))\n",
        "\n",
        "#Verificando comprimento\n",
        "# print(len(programadores))\n",
        "\n",
        "#Retorna valor do item\n",
        "# print(programadores[4])\n"
      ]
    },
    {
      "cell_type": "code",
      "source": [
        "#Alterar Listas\n",
        "# print(programadores)\n",
        "programadores[4] = 'Camila'\n",
        "print(programadores)"
      ],
      "metadata": {
        "id": "47jcGvHJEcPj",
        "colab": {
          "base_uri": "https://localhost:8080/"
        },
        "outputId": "7111904d-a0da-4669-9dcb-8b78c76e69e2"
      },
      "execution_count": null,
      "outputs": [
        {
          "output_type": "stream",
          "name": "stdout",
          "text": [
            "['Victor', 'Maria', 'Pedro', 'Paula', 'Camila']\n"
          ]
        }
      ]
    },
    {
      "cell_type": "code",
      "source": [
        "#Adicionando itens da Lista\n",
        "programadores = ['Victor','Maria','Pedro', 'Paula', 'João']\n",
        "print(programadores)\n",
        "\n",
        "programadores.append('Larissa')\n",
        "print(programadores)\n",
        "\n"
      ],
      "metadata": {
        "id": "lOhZ5Q_IGCR0",
        "colab": {
          "base_uri": "https://localhost:8080/"
        },
        "outputId": "85c56f5f-e46f-4334-e151-fc3a83267a6e"
      },
      "execution_count": null,
      "outputs": [
        {
          "output_type": "stream",
          "name": "stdout",
          "text": [
            "['Victor', 'Maria', 'Pedro', 'Paula', 'João']\n",
            "['Victor', 'Maria', 'Pedro', 'Paula', 'João', 'Larissa']\n"
          ]
        }
      ]
    },
    {
      "cell_type": "code",
      "source": [
        "#Removendo itens da Lista\n",
        "programadores = ['Victor','Maria','Pedro', 'Paula', 'João']\n",
        "print(programadores)\n",
        "\n",
        "programadores.remove('Victor')\n",
        "print(programadores)\n",
        "\n",
        "programadores.pop(1) #remove pela posição\n",
        "print(programadores)\n"
      ],
      "metadata": {
        "id": "ZKeKIA_XGcFC",
        "colab": {
          "base_uri": "https://localhost:8080/"
        },
        "outputId": "1c884659-440c-446d-e055-1229e42b9cf8"
      },
      "execution_count": null,
      "outputs": [
        {
          "output_type": "stream",
          "name": "stdout",
          "text": [
            "['Victor', 'Maria', 'Pedro', 'Paula', 'João']\n",
            "['Maria', 'Pedro', 'Paula', 'João']\n",
            "['Maria', 'Paula', 'João']\n"
          ]
        }
      ]
    },
    {
      "cell_type": "code",
      "source": [
        "#Tipos nas listas\n",
        "aluno = ['Ana', 25, 1.78]\n",
        "\n",
        "print(type(aluno))\n",
        "print(aluno)"
      ],
      "metadata": {
        "id": "An8x4ZaoHMRt",
        "colab": {
          "base_uri": "https://localhost:8080/"
        },
        "outputId": "ca2f9873-4e98-4111-e86f-0f3e8f53edd2"
      },
      "execution_count": null,
      "outputs": [
        {
          "output_type": "stream",
          "name": "stdout",
          "text": [
            "<class 'list'>\n",
            "['Ana', 25, 1.78]\n"
          ]
        }
      ]
    },
    {
      "cell_type": "code",
      "source": [
        "#Tuplas\n",
        "\n",
        "times_rj = ('Vasco', 'Flamengo', 'Fluminense')\n",
        "print(type(times_rj))\n",
        "print(times_rj)"
      ],
      "metadata": {
        "id": "fWZWHm-YLO8i",
        "colab": {
          "base_uri": "https://localhost:8080/"
        },
        "outputId": "e58b05b3-767d-4f8e-c19b-ccb5f73947aa"
      },
      "execution_count": null,
      "outputs": [
        {
          "output_type": "stream",
          "name": "stdout",
          "text": [
            "<class 'tuple'>\n",
            "('Vasco', 'Flamengo', 'Fluminense')\n"
          ]
        }
      ]
    },
    {
      "cell_type": "code",
      "source": [
        "#Acessando Valores\n",
        "print(times_rj[0])"
      ],
      "metadata": {
        "id": "LA4CwJC1LvLG",
        "colab": {
          "base_uri": "https://localhost:8080/"
        },
        "outputId": "3468cfa6-dbb5-4818-ff7f-4743c978e88a"
      },
      "execution_count": null,
      "outputs": [
        {
          "output_type": "stream",
          "name": "stdout",
          "text": [
            "Vasco\n"
          ]
        }
      ]
    },
    {
      "cell_type": "code",
      "source": [
        "#Por serem imutaveis, não podemos alterar itens\n",
        "\n",
        "vogais = ('a', 'e', 'i', 'o', 'u')\n",
        "print(vogais)\n",
        "\n",
        "vogais[3] = 'E'"
      ],
      "metadata": {
        "id": "PdVt7VacMefP",
        "colab": {
          "base_uri": "https://localhost:8080/",
          "height": 193
        },
        "outputId": "6289edff-4d53-440f-f043-081474c13c23"
      },
      "execution_count": null,
      "outputs": [
        {
          "output_type": "stream",
          "name": "stdout",
          "text": [
            "('a', 'e', 'i', 'o', 'u')\n"
          ]
        },
        {
          "output_type": "error",
          "ename": "TypeError",
          "evalue": "'tuple' object does not support item assignment",
          "traceback": [
            "\u001b[0;31m---------------------------------------------------------------------------\u001b[0m",
            "\u001b[0;31mTypeError\u001b[0m                                 Traceback (most recent call last)",
            "\u001b[0;32m<ipython-input-25-ffd559832b6c>\u001b[0m in \u001b[0;36m<cell line: 6>\u001b[0;34m()\u001b[0m\n\u001b[1;32m      4\u001b[0m \u001b[0mprint\u001b[0m\u001b[0;34m(\u001b[0m\u001b[0mvogais\u001b[0m\u001b[0;34m)\u001b[0m\u001b[0;34m\u001b[0m\u001b[0;34m\u001b[0m\u001b[0m\n\u001b[1;32m      5\u001b[0m \u001b[0;34m\u001b[0m\u001b[0m\n\u001b[0;32m----> 6\u001b[0;31m \u001b[0mvogais\u001b[0m\u001b[0;34m[\u001b[0m\u001b[0;36m3\u001b[0m\u001b[0;34m]\u001b[0m \u001b[0;34m=\u001b[0m \u001b[0;34m'E'\u001b[0m\u001b[0;34m\u001b[0m\u001b[0;34m\u001b[0m\u001b[0m\n\u001b[0m",
            "\u001b[0;31mTypeError\u001b[0m: 'tuple' object does not support item assignment"
          ]
        }
      ]
    },
    {
      "cell_type": "code",
      "source": [
        "#Dicionários , exibir e adicionar itens\n",
        "\n",
        "pessoa = {\n",
        "    'nome': 'João',\n",
        "    'idade': 30,\n",
        "    'cidade': 'São Paulo'\n",
        "}\n",
        "print(pessoa)\n",
        "\n",
        "pessoa ['Estado civil'] = 'Casada' #adicionando item\n",
        "pessoa.pop('idade', 30) #remocendo item\n",
        "\n",
        "print(pessoa)"
      ],
      "metadata": {
        "id": "bBVr82TxPwe3",
        "colab": {
          "base_uri": "https://localhost:8080/"
        },
        "outputId": "cd457f53-bb67-417b-cb27-84a16bb4e524"
      },
      "execution_count": null,
      "outputs": [
        {
          "output_type": "stream",
          "name": "stdout",
          "text": [
            "{'nome': 'João', 'idade': 30, 'cidade': 'São Paulo'}\n",
            "{'nome': 'João', 'cidade': 'São Paulo', 'Estado civil': 'Casada'}\n"
          ]
        }
      ]
    },
    {
      "cell_type": "code",
      "source": [
        "#Funções\n",
        "\n",
        "numeros = [10, 20, 30, 40, 50]\n",
        "\n",
        "# print(min(numeros))\n",
        "# print(max(numeros))\n",
        "# print(sum(numeros))\n",
        "print(len(numeros))"
      ],
      "metadata": {
        "id": "03dZfTRyRk0H",
        "colab": {
          "base_uri": "https://localhost:8080/"
        },
        "outputId": "a9914ce5-ac21-4864-b2a8-6228a1560689"
      },
      "execution_count": null,
      "outputs": [
        {
          "output_type": "stream",
          "name": "stdout",
          "text": [
            "Ana\n",
            "Pedro\n"
          ]
        }
      ]
    },
    {
      "cell_type": "markdown",
      "source": [
        "\n",
        "1 Escreva um programa que calcule a soma de todos os elementos em uma lista de números, mostre o maior e o menor numero e o comprimento da lista.\n",
        "\n",
        "2 Faça o calculo de média do exercicio anterior. Não esqueça de usar as funções.\n",
        "\n",
        "Crie um dicionário que represente as informações de uma pessoa, como nome, idade e cidade.\n",
        "\n",
        "Acesse e exiba os valores individuais do dicionário criado no exercício 1.\n",
        "\n",
        "Modifique o valor da idade no dicionário criado no exercício 1 para refletir uma idade diferente.\n",
        "\n",
        "Adicione um novo par chave-valor ao dicionário criado no exercício 1 para representar a profissão da pessoa.\n",
        "\n",
        "Remova a informação da cidade do dicionário criado no exercício 1.\n",
        "\n"
      ],
      "metadata": {
        "id": "IKjJafMRSM3x"
      }
    }
  ]
}